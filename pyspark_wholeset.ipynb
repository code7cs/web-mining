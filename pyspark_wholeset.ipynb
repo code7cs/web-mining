{
 "cells": [
  {
   "cell_type": "code",
   "execution_count": 1,
   "metadata": {},
   "outputs": [],
   "source": [
    "from pyspark.sql import SparkSession"
   ]
  },
  {
   "cell_type": "code",
   "execution_count": 2,
   "metadata": {},
   "outputs": [],
   "source": [
    "spark = SparkSession \\\n",
    "            .builder \\\n",
    "            .appName(\"Python Spark example\") \\\n",
    "            .config(\"spark.some.config.option\", \"some-value\") \\\n",
    "            .getOrCreate()"
   ]
  },
  {
   "cell_type": "code",
   "execution_count": 3,
   "metadata": {},
   "outputs": [],
   "source": [
    "df = spark.read.format('com.databricks.spark.csv') \\\n",
    "            .options(header='true', inferschema='true') \\\n",
    "            .load(\"bow_counts_toNum.csv\",header=True);"
   ]
  },
  {
   "cell_type": "code",
   "execution_count": 4,
   "metadata": {},
   "outputs": [
    {
     "name": "stdout",
     "output_type": "stream",
     "text": [
      "+---------------+----+----+-------+----+-----------+\n",
      "|Restaurant_Name|face|ship|warning|fuss|instruction|\n",
      "+---------------+----+----+-------+----+-----------+\n",
      "|              1|   0|   0|      0|   0|          0|\n",
      "|              1|   0|   0|      0|   0|          0|\n",
      "|              1|   0|   0|      0|   0|          0|\n",
      "|              1|   0|   0|      0|   0|          0|\n",
      "|              1|   0|   0|      0|   0|          0|\n",
      "+---------------+----+----+-------+----+-----------+\n",
      "only showing top 5 rows\n",
      "\n"
     ]
    }
   ],
   "source": [
    "df.select('Restaurant_Name','face','ship','warning','fuss','instruction').show(5)"
   ]
  },
  {
   "cell_type": "code",
   "execution_count": 5,
   "metadata": {},
   "outputs": [],
   "source": [
    "from pyspark.sql.functions import udf\n",
    "from pyspark.sql.types import StringType, DoubleType"
   ]
  },
  {
   "cell_type": "code",
   "execution_count": 6,
   "metadata": {},
   "outputs": [
    {
     "name": "stdout",
     "output_type": "stream",
     "text": [
      "+---------------+----+----+-------+----+-----------+\n",
      "|Restaurant_Name|face|ship|warning|fuss|instruction|\n",
      "+---------------+----+----+-------+----+-----------+\n",
      "|    Ess-a-Bagel|   0|   0|      0|   0|          0|\n",
      "|    Ess-a-Bagel|   0|   0|      0|   0|          0|\n",
      "|    Ess-a-Bagel|   0|   0|      0|   0|          0|\n",
      "|    Ess-a-Bagel|   0|   0|      0|   0|          0|\n",
      "|    Ess-a-Bagel|   0|   0|      0|   0|          0|\n",
      "+---------------+----+----+-------+----+-----------+\n",
      "only showing top 5 rows\n",
      "\n"
     ]
    }
   ],
   "source": [
    "# Convert to float format\n",
    "def string_to_float(x):\n",
    "    return float(x)\n",
    "\n",
    "#\n",
    "def condition(r):\n",
    "    if (r == 1):\n",
    "        label = \"Ess-a-Bagel\"\n",
    "    elif(r == 2):\n",
    "        label = \"Momofuku Noodle Bar\"\n",
    "    elif(r == 3):\n",
    "        label = \"Totto Ramen\"\n",
    "    elif(r == 4):\n",
    "        label = \"Ippudo Westside\"\n",
    "    elif(r == 5):\n",
    "        label = \"The Halal Guys\"\n",
    "    elif(r == 6):\n",
    "        label = \"Beauty & Essex\"\n",
    "    elif(r == 7):\n",
    "        label = \"Lombardi's Pizza\"\n",
    "    elif(r == 8):\n",
    "        label = \"Carmine's Italian Restaurant - Times Square\"\n",
    "    elif(r == 9):\n",
    "        label = \"Ippudo NY\"\n",
    "    elif(r == 10):\n",
    "        label = \"Buddakan\"\n",
    "    return label\n",
    "\n",
    "string_to_float_udf = udf(string_to_float, DoubleType())\n",
    "quality_udf = udf(lambda x: condition(x), StringType())\n",
    "\n",
    "df = df.withColumn(\"Restaurant_Name\", quality_udf(\"Restaurant_Name\"))\n",
    "df.select('Restaurant_Name','face','ship','warning','fuss','instruction').show(5)"
   ]
  },
  {
   "cell_type": "code",
   "execution_count": 7,
   "metadata": {},
   "outputs": [],
   "source": [
    "from pyspark.ml.linalg import Vectors # !!!!caution: not from pyspark.mllib.linalg import Vectors\n",
    "from pyspark.ml import Pipeline\n",
    "from pyspark.ml.feature import IndexToString,StringIndexer, VectorIndexer\n",
    "from pyspark.ml.tuning import CrossValidator, ParamGridBuilder\n",
    "from pyspark.ml.evaluation import MulticlassClassificationEvaluator\n",
    "\n",
    "def transData(data):\n",
    "    return data.rdd.map(lambda r: [Vectors.dense(r[:-1]),r[-1]]).toDF(['features','label'])"
   ]
  },
  {
   "cell_type": "code",
   "execution_count": 8,
   "metadata": {},
   "outputs": [
    {
     "name": "stdout",
     "output_type": "stream",
     "text": [
      "+--------------------+-----------+\n",
      "|            features|      label|\n",
      "+--------------------+-----------+\n",
      "|[0.0,0.0,0.0,0.0,...|Ess-a-Bagel|\n",
      "|[0.0,0.0,0.0,0.0,...|Ess-a-Bagel|\n",
      "|[0.0,0.0,0.0,0.0,...|Ess-a-Bagel|\n",
      "|[0.0,0.0,0.0,0.0,...|Ess-a-Bagel|\n",
      "|[0.0,0.0,0.0,0.0,...|Ess-a-Bagel|\n",
      "+--------------------+-----------+\n",
      "only showing top 5 rows\n",
      "\n"
     ]
    }
   ],
   "source": [
    "transformed = transData(df)\n",
    "transformed.show(5)"
   ]
  },
  {
   "cell_type": "code",
   "execution_count": 9,
   "metadata": {},
   "outputs": [
    {
     "name": "stdout",
     "output_type": "stream",
     "text": [
      "+--------------------+-----------+------------+\n",
      "|            features|      label|indexedLabel|\n",
      "+--------------------+-----------+------------+\n",
      "|[0.0,0.0,0.0,0.0,...|Ess-a-Bagel|         3.0|\n",
      "|[0.0,0.0,0.0,0.0,...|Ess-a-Bagel|         3.0|\n",
      "|[0.0,0.0,0.0,0.0,...|Ess-a-Bagel|         3.0|\n",
      "|[0.0,0.0,0.0,0.0,...|Ess-a-Bagel|         3.0|\n",
      "|[0.0,0.0,0.0,0.0,...|Ess-a-Bagel|         3.0|\n",
      "+--------------------+-----------+------------+\n",
      "only showing top 5 rows\n",
      "\n"
     ]
    }
   ],
   "source": [
    "# Index labels, adding metadata to the label column\n",
    "labelIndexer = StringIndexer(inputCol='label',\n",
    "                             outputCol='indexedLabel').fit(transformed)\n",
    "labelIndexer.transform(transformed).show(5, True)"
   ]
  },
  {
   "cell_type": "code",
   "execution_count": 13,
   "metadata": {},
   "outputs": [
    {
     "name": "stdout",
     "output_type": "stream",
     "text": [
      "+--------------------+-----------+--------------------+\n",
      "|            features|      label|     indexedFeatures|\n",
      "+--------------------+-----------+--------------------+\n",
      "|[0.0,0.0,0.0,0.0,...|Ess-a-Bagel|[0.0,0.0,0.0,0.0,...|\n",
      "|[0.0,0.0,0.0,0.0,...|Ess-a-Bagel|[0.0,0.0,0.0,0.0,...|\n",
      "|[0.0,0.0,0.0,0.0,...|Ess-a-Bagel|[0.0,0.0,0.0,0.0,...|\n",
      "|[0.0,0.0,0.0,0.0,...|Ess-a-Bagel|[0.0,0.0,0.0,0.0,...|\n",
      "|[0.0,0.0,0.0,0.0,...|Ess-a-Bagel|[0.0,0.0,0.0,0.0,...|\n",
      "+--------------------+-----------+--------------------+\n",
      "only showing top 5 rows\n",
      "\n"
     ]
    }
   ],
   "source": [
    "# Automatically identify categorical features, and index them.\n",
    "featureIndexer =VectorIndexer(inputCol=\"features\", \\\n",
    "                              outputCol=\"indexedFeatures\").fit(transformed)\n",
    "featureIndexer.transform(transformed).show(5, True)"
   ]
  },
  {
   "cell_type": "code",
   "execution_count": 14,
   "metadata": {},
   "outputs": [],
   "source": [
    "# Split the data into training and test sets (20% held out for testing)\n",
    "(trainingData, testData) = transformed.randomSplit([0.8, 0.2])"
   ]
  },
  {
   "cell_type": "code",
   "execution_count": 21,
   "metadata": {},
   "outputs": [
    {
     "name": "stdout",
     "output_type": "stream",
     "text": [
      "time:  7.071635961532593 seconds.\n",
      "+--------------------+--------------------+----------------+\n",
      "|            features|               label|  predictedLabel|\n",
      "+--------------------+--------------------+----------------+\n",
      "|[0.0,0.0,0.0,0.0,...|      Beauty & Essex|     Ess-a-Bagel|\n",
      "|[0.0,0.0,0.0,0.0,...|    Lombardi's Pizza|  The Halal Guys|\n",
      "|[0.0,0.0,0.0,0.0,...|Carmine's Italian...| Ippudo Westside|\n",
      "|[0.0,0.0,0.0,0.0,...|    Lombardi's Pizza|Lombardi's Pizza|\n",
      "|[0.0,0.0,0.0,0.0,...|         Totto Ramen|       Ippudo NY|\n",
      "+--------------------+--------------------+----------------+\n",
      "only showing top 5 rows\n",
      "\n",
      "Test Accuracy = 0.669565\n"
     ]
    }
   ],
   "source": [
    "from time import time\n",
    "from pyspark.ml.classification import LogisticRegression\n",
    "from pyspark.ml.evaluation import MulticlassClassificationEvaluator\n",
    "t0 = time()\n",
    "logr = LogisticRegression(featuresCol='indexedFeatures', labelCol='indexedLabel')\n",
    "# Convert indexed labels back to original labels.\n",
    "labelConverter = IndexToString(inputCol=\"prediction\", outputCol=\"predictedLabel\",\n",
    "                               labels=labelIndexer.labels)\n",
    "# Chain indexers and tree in a Pipeline\n",
    "pipeline = Pipeline(stages=[labelIndexer, featureIndexer, logr,labelConverter])\n",
    "# Train model.  This also runs the indexers.\n",
    "model = pipeline.fit(trainingData)\n",
    "print(\"time: \", time()-t0,'seconds.')\n",
    "\n",
    "# Make predictions.\n",
    "predictions = model.transform(testData)\n",
    "# Select example rows to display.\n",
    "predictions.select(\"features\",\"label\",\"predictedLabel\").show(5)\n",
    "\n",
    "# Select (prediction, true label) and compute test error\n",
    "evaluator = MulticlassClassificationEvaluator(\n",
    "    labelCol=\"indexedLabel\", predictionCol=\"prediction\", metricName=\"accuracy\")\n",
    "accuracy = evaluator.evaluate(predictions)\n",
    "print(\"Test Accuracy = %g\" % (accuracy))\n"
   ]
  },
  {
   "cell_type": "code",
   "execution_count": 22,
   "metadata": {},
   "outputs": [
    {
     "name": "stdout",
     "output_type": "stream",
     "text": [
      "time:  13.801464080810547 seconds.\n",
      "+--------------------+--------------------+--------------------+\n",
      "|            features|               label|      predictedLabel|\n",
      "+--------------------+--------------------+--------------------+\n",
      "|[0.0,0.0,0.0,0.0,...|      Beauty & Essex|Carmine's Italian...|\n",
      "|[0.0,0.0,0.0,0.0,...|    Lombardi's Pizza|    Lombardi's Pizza|\n",
      "|[0.0,0.0,0.0,0.0,...|Carmine's Italian...|         Ess-a-Bagel|\n",
      "|[0.0,0.0,0.0,0.0,...|    Lombardi's Pizza|    Lombardi's Pizza|\n",
      "|[0.0,0.0,0.0,0.0,...|         Totto Ramen|      The Halal Guys|\n",
      "+--------------------+--------------------+--------------------+\n",
      "only showing top 5 rows\n",
      "\n",
      "Test Accuracy = 0.513043\n",
      "RandomForestClassificationModel (uid=RandomForestClassifier_79dc05989f74) with 10 trees\n"
     ]
    }
   ],
   "source": [
    "from pyspark.ml.classification import RandomForestClassifier\n",
    "t0 = time()\n",
    "# Train a RandomForest model.\n",
    "rf = RandomForestClassifier(labelCol=\"indexedLabel\", featuresCol=\"indexedFeatures\", numTrees=10)\n",
    "# Convert indexed labels back to original labels.\n",
    "labelConverter = IndexToString(inputCol=\"prediction\", outputCol=\"predictedLabel\",\n",
    "                               labels=labelIndexer.labels)\n",
    "# Chain indexers and tree in a Pipeline\n",
    "pipeline = Pipeline(stages=[labelIndexer, featureIndexer, rf,labelConverter])\n",
    "# Train model.  This also runs the indexers.\n",
    "model = pipeline.fit(trainingData)\n",
    "print(\"time: \", time()-t0,'seconds.')\n",
    "\n",
    "# Make predictions.\n",
    "predictions = model.transform(testData)\n",
    "# Select example rows to display.\n",
    "predictions.select(\"features\",\"label\",\"predictedLabel\").show(5)\n",
    "# Select (prediction, true label) and compute test error\n",
    "evaluator = MulticlassClassificationEvaluator(\n",
    "    labelCol=\"indexedLabel\", predictionCol=\"prediction\", metricName=\"accuracy\")\n",
    "accuracy = evaluator.evaluate(predictions)\n",
    "print(\"Test Accuracy = %g\" % (accuracy))\n",
    "\n",
    "rfModel = model.stages[-2]\n",
    "print(rfModel)  # summary only"
   ]
  },
  {
   "cell_type": "code",
   "execution_count": 23,
   "metadata": {},
   "outputs": [
    {
     "name": "stdout",
     "output_type": "stream",
     "text": [
      "time:  7.719007968902588 seconds.\n",
      "+--------------------+--------------------+--------------------+\n",
      "|            features|               label|      predictedLabel|\n",
      "+--------------------+--------------------+--------------------+\n",
      "|[0.0,0.0,0.0,0.0,...|      Beauty & Essex|Carmine's Italian...|\n",
      "|[0.0,0.0,0.0,0.0,...|    Lombardi's Pizza|    Lombardi's Pizza|\n",
      "|[0.0,0.0,0.0,0.0,...|Carmine's Italian...|Carmine's Italian...|\n",
      "|[0.0,0.0,0.0,0.0,...|    Lombardi's Pizza|    Lombardi's Pizza|\n",
      "|[0.0,0.0,0.0,0.0,...|         Totto Ramen|         Totto Ramen|\n",
      "+--------------------+--------------------+--------------------+\n",
      "only showing top 5 rows\n",
      "\n",
      "Test Accuracy = 0.773913\n"
     ]
    }
   ],
   "source": [
    "from pyspark.ml.classification import NaiveBayes\n",
    "t0 = time()\n",
    "nb = NaiveBayes(featuresCol='indexedFeatures', labelCol='indexedLabel')\n",
    "# Convert indexed labels back to original labels.\n",
    "labelConverter = IndexToString(inputCol=\"prediction\", outputCol=\"predictedLabel\",\n",
    "                               labels=labelIndexer.labels)\n",
    "# Chain indexers and tree in a Pipeline\n",
    "pipeline = Pipeline(stages=[labelIndexer, featureIndexer, nb,labelConverter])\n",
    "# Train model.  This also runs the indexers.\n",
    "model = pipeline.fit(trainingData)\n",
    "print(\"time: \", time()-t0,'seconds.')\n",
    "\n",
    "# Make predictions.\n",
    "predictions = model.transform(testData)\n",
    "# Select example rows to display.\n",
    "predictions.select(\"features\",\"label\",\"predictedLabel\").show(5)\n",
    "# Select (prediction, true label) and compute test error\n",
    "evaluator = MulticlassClassificationEvaluator(\n",
    "    labelCol=\"indexedLabel\", predictionCol=\"prediction\", metricName=\"accuracy\")\n",
    "accuracy = evaluator.evaluate(predictions)\n",
    "print(\"Test Accuracy = %g\" % (accuracy))\n"
   ]
  },
  {
   "cell_type": "code",
   "execution_count": 24,
   "metadata": {},
   "outputs": [
    {
     "name": "stdout",
     "output_type": "stream",
     "text": [
      "time:  13.733898878097534 seconds.\n",
      "+--------------------+--------------------+----------------+\n",
      "|            features|               label|  predictedLabel|\n",
      "+--------------------+--------------------+----------------+\n",
      "|[0.0,0.0,0.0,0.0,...|      Beauty & Essex|  Beauty & Essex|\n",
      "|[0.0,0.0,0.0,0.0,...|    Lombardi's Pizza|Lombardi's Pizza|\n",
      "|[0.0,0.0,0.0,0.0,...|Carmine's Italian...|  Beauty & Essex|\n",
      "|[0.0,0.0,0.0,0.0,...|    Lombardi's Pizza|  Beauty & Essex|\n",
      "|[0.0,0.0,0.0,0.0,...|         Totto Ramen|       Ippudo NY|\n",
      "+--------------------+--------------------+----------------+\n",
      "only showing top 5 rows\n",
      "\n",
      "Test Accuracy = 0.443478\n",
      "DecisionTreeClassificationModel (uid=DecisionTreeClassifier_f97a68bc056b) of depth 5 with 15 nodes\n"
     ]
    }
   ],
   "source": [
    "from pyspark.ml.classification import DecisionTreeClassifier\n",
    "t0 = time()\n",
    "# Train a DecisionTree model\n",
    "dTree = DecisionTreeClassifier(labelCol='indexedLabel', featuresCol='indexedFeatures')\n",
    "# Convert indexed labels back to original labels.\n",
    "labelConverter = IndexToString(inputCol=\"prediction\", outputCol=\"predictedLabel\",\n",
    "                               labels=labelIndexer.labels)\n",
    "# Chain indexers and tree in a Pipeline\n",
    "pipeline = Pipeline(stages=[labelIndexer, featureIndexer, dTree,labelConverter])\n",
    "# Train model.  This also runs the indexers.\n",
    "model = pipeline.fit(trainingData)\n",
    "print(\"time: \", time()-t0,'seconds.')\n",
    "\n",
    "# Make predictions.\n",
    "predictions = model.transform(testData)\n",
    "# Select example rows to display.\n",
    "predictions.select(\"features\",\"label\",\"predictedLabel\").show(5)\n",
    "# Select (prediction, true label) and compute test error\n",
    "evaluator = MulticlassClassificationEvaluator(\n",
    "    labelCol=\"indexedLabel\", predictionCol=\"prediction\", metricName=\"accuracy\")\n",
    "accuracy = evaluator.evaluate(predictions)\n",
    "print(\"Test Accuracy = %g\" % (accuracy))\n",
    "\n",
    "rfModel = model.stages[-2]\n",
    "print(rfModel)  # summary only"
   ]
  },
  {
   "cell_type": "code",
   "execution_count": null,
   "metadata": {},
   "outputs": [],
   "source": []
  }
 ],
 "metadata": {
  "kernelspec": {
   "display_name": "Python 3",
   "language": "python",
   "name": "python3"
  },
  "language_info": {
   "codemirror_mode": {
    "name": "ipython",
    "version": 3
   },
   "file_extension": ".py",
   "mimetype": "text/x-python",
   "name": "python",
   "nbconvert_exporter": "python",
   "pygments_lexer": "ipython3",
   "version": "3.7.2"
  }
 },
 "nbformat": 4,
 "nbformat_minor": 2
}
